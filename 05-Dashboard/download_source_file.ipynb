{
 "cells": [
  {
   "cell_type": "code",
   "execution_count": null,
   "id": "985402e8",
   "metadata": {
    "vscode": {
     "languageId": "plaintext"
    }
   },
   "outputs": [],
   "source": [
    "import os\n",
    "import pandas as pd\n",
    "\n",
    "csv_path = \"05-Dashboard/survey_data_updated_5.csv\"\n",
    "url = \"https://cf-courses-data.s3.us.cloud-object-storage.appdomain.cloud/T3iZyjwN9ifjS-B0JaYVgw/survey-data-updated%205.csv\"\n",
    "\n",
    "if not os.path.exists(csv_path):\n",
    "    print(\"Descargando dataset...\")\n",
    "    df = pd.read_csv(url)\n",
    "    os.makedirs(os.path.dirname(csv_path), exist_ok=True)\n",
    "    df.to_csv(csv_path, index=False)\n",
    "else:\n",
    "    df = pd.read_csv(csv_path)\n",
    "\n",
    "print(\"Dataset cargado:\", df.shape)\n"
   ]
  }
 ],
 "metadata": {
  "language_info": {
   "name": "python"
  }
 },
 "nbformat": 4,
 "nbformat_minor": 5
}
