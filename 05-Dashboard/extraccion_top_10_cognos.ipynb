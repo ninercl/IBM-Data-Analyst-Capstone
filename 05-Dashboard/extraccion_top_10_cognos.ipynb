{
 "cells": [
  {
   "cell_type": "code",
   "execution_count": 5,
   "id": "d425cdc8",
   "metadata": {},
   "outputs": [
    {
     "name": "stdout",
     "output_type": "stream",
     "text": [
      "✅ Top10_Language.csv (columna real usada: LanguageHaveWorkedWith)\n",
      "✅ Top10_Database.csv (columna real usada: DatabaseHaveWorkedWith)\n",
      "✅ Top10_Platform.csv (columna real usada: PlatformHaveWorkedWith)\n",
      "✅ Top10_WebFrame.csv (columna real usada: WebframeHaveWorkedWith)\n",
      "✅ Top10_AllCategories_Long.csv listo.\n"
     ]
    }
   ],
   "source": [
    "import pandas as pd\n",
    "from pathlib import Path\n",
    "\n",
    "INPUT_CSV = \"survey_data_updated 5.csv\"   # <-- ajusta ruta\n",
    "OUT_DIR   = Path(\"export_top10\"); OUT_DIR.mkdir(exist_ok=True)\n",
    "\n",
    "# ------- alias por categoría (insensible a mayúsc/mínusc) -------\n",
    "ALIASES = {\n",
    "    # actuales (WorkedWith = uso actual)\n",
    "    \"LanguageHaveWorkedWith\": [\"LanguageHaveWorkedWith\",\"LanguagesHaveWorkedWith\",\"Language Worked With\",\"Language\"],\n",
    "    \"DatabaseHaveWorkedWith\": [\"DatabaseHaveWorkedWith\",\"DatabasesHaveWorkedWith\",\"Database Worked With\",\"Database\"],\n",
    "    \"PlatformHaveWorkedWith\": [\"PlatformHaveWorkedWith\",\"PlatformsHaveWorkedWith\",\"Platform Worked With\",\"Platform\"],\n",
    "    # usamos tus nombres reales para WebFrame\n",
    "    \"WebframeHaveWorkedWith\": [\"WebframeHaveWorkedWith\",\"WebFrameHaveWorkedWith\",\"Webframe Worked With\",\"Web Framework\"],\n",
    "    # futuros (WantToWorkWith = deseo próximo año) por si los necesitas\n",
    "    \"LanguageWantToWorkWith\": [\"LanguageWantToWorkWith\",\"LanguagesWantToWorkWith\",\"Language Want To Work With\"],\n",
    "    \"DatabaseWantToWorkWith\": [\"DatabaseWantToWorkWith\",\"DatabasesWantToWorkWith\",\"Database Want To Work With\"],\n",
    "    \"PlatformWantToWorkWith\": [\"PlatformWantToWorkWith\",\"PlatformsWantToWorkWith\",\"Platform Want To Work With\"],\n",
    "    \"WebframeWantToWorkWith\": [\"WebframeWantToWorkWith\",\"WebFrameWantToWorkWith\",\"Webframe Want To Work With\"]\n",
    "}\n",
    "\n",
    "# ------- utilidades -------\n",
    "def resolve_col(df, candidates):\n",
    "    cols = [c.strip() for c in df.columns]\n",
    "    # match exact (case-insensitive)\n",
    "    for a in candidates:\n",
    "        for c in cols:\n",
    "            if c.lower() == a.lower():\n",
    "                return c\n",
    "    # match parcial\n",
    "    for a in candidates:\n",
    "        for c in cols:\n",
    "            if a.lower() in c.lower():\n",
    "                return c\n",
    "    return None\n",
    "\n",
    "def explode_semicol_series(df, col):\n",
    "    s = (df[col].astype(str)\n",
    "                  .where(lambda x: x.str.lower().ne('nan'))\n",
    "                  .str.split(';'))\n",
    "    s = s.explode().dropna().astype(str).str.strip()\n",
    "    return s[s != \"\"]\n",
    "\n",
    "def top_n_counts(series, n=10):\n",
    "    vc = series.value_counts().reset_index()\n",
    "    vc.columns = [\"Item\", \"Count\"]\n",
    "    return vc.head(n)\n",
    "\n",
    "# ------- carga -------\n",
    "df = pd.read_csv(INPUT_CSV, low_memory=False)\n",
    "df.columns = df.columns.str.strip()\n",
    "\n",
    "# Escoge qué categorías quieres generar (las 4 actuales del lab)\n",
    "CATEGORIES_TO_BUILD = [\n",
    "    \"LanguageHaveWorkedWith\",\n",
    "    \"DatabaseHaveWorkedWith\",\n",
    "    \"PlatformHaveWorkedWith\",\n",
    "    \"WebframeHaveWorkedWith\",   # <- usa tu nombre real\n",
    "    # si luego haces la pestaña de \"Future Trend\", añade los *WantToWorkWith* aquí\n",
    "    # \"LanguageWantToWorkWith\", \"DatabaseWantToWorkWith\",\n",
    "    # \"PlatformWantToWorkWith\", \"WebframeWantToWorkWith\"\n",
    "]\n",
    "\n",
    "long_rows = []\n",
    "for canonical in CATEGORIES_TO_BUILD:\n",
    "    candidates = ALIASES.get(canonical, [canonical])\n",
    "    real_col = resolve_col(df, candidates)\n",
    "    if not real_col:\n",
    "        print(f\"⚠️  No encontré columna para {canonical}. Revisa nombres en tu CSV.\")\n",
    "        continue\n",
    "    ser = explode_semicol_series(df, real_col)\n",
    "    if ser.empty:\n",
    "        print(f\"⚠️  Columna {real_col} está vacía tras limpiar/separar.\")\n",
    "        continue\n",
    "\n",
    "    top10 = top_n_counts(ser, n=10)\n",
    "    # guarda CSV por categoría\n",
    "    safe_name = canonical.replace(\"HaveWorkedWith\",\"\").replace(\"WantToWorkWith\",\"\").replace(\"Webframe\",\"WebFrame\")\n",
    "    top10.to_csv(OUT_DIR / f\"Top10_{safe_name}.csv\", index=False, encoding=\"utf-8\")\n",
    "    print(f\"✅ Top10_{safe_name}.csv (columna real usada: {real_col})\")\n",
    "\n",
    "    # agrega al consolidado largo\n",
    "    t = top10.copy()\n",
    "    t.insert(0, \"Category\", canonical)   # Category | Item | Count\n",
    "    long_rows.append(t[[\"Category\",\"Item\",\"Count\"]])\n",
    "\n",
    "# consolidado largo (1 solo CSV para Cognos)\n",
    "if long_rows:\n",
    "    long_df = pd.concat(long_rows, ignore_index=True)\n",
    "    long_df.to_csv(OUT_DIR / \"Top10_AllCategories_Long.csv\", index=False, encoding=\"utf-8\")\n",
    "    print(\"✅ Top10_AllCategories_Long.csv listo.\")\n",
    "else:\n",
    "    print(\"⚠️ No se generó consolidado; revisa nombres de columnas.\")\n"
   ]
  },
  {
   "cell_type": "code",
   "execution_count": 3,
   "id": "1639d88d",
   "metadata": {},
   "outputs": [
    {
     "name": "stdout",
     "output_type": "stream",
     "text": [
      "['ResponseId', 'MainBranch', 'Age', 'Employment', 'RemoteWork', 'Check', 'CodingActivities', 'EdLevel', 'LearnCode', 'LearnCodeOnline', 'TechDoc', 'YearsCode', 'YearsCodePro', 'DevType', 'OrgSize', 'PurchaseInfluence', 'BuyNewTool', 'BuildvsBuy', 'TechEndorse', 'Country', 'Currency', 'CompTotal', 'LanguageHaveWorkedWith', 'LanguageWantToWorkWith', 'LanguageAdmired', 'DatabaseHaveWorkedWith', 'DatabaseWantToWorkWith', 'DatabaseAdmired', 'PlatformHaveWorkedWith', 'PlatformWantToWorkWith', 'PlatformAdmired', 'WebframeHaveWorkedWith', 'WebframeWantToWorkWith', 'WebframeAdmired', 'EmbeddedHaveWorkedWith', 'EmbeddedWantToWorkWith', 'EmbeddedAdmired', 'MiscTechHaveWorkedWith', 'MiscTechWantToWorkWith', 'MiscTechAdmired', 'ToolsTechHaveWorkedWith', 'ToolsTechWantToWorkWith', 'ToolsTechAdmired', 'NEWCollabToolsHaveWorkedWith', 'NEWCollabToolsWantToWorkWith', 'NEWCollabToolsAdmired', 'OpSysPersonal use', 'OpSysProfessional use', 'OfficeStackAsyncHaveWorkedWith', 'OfficeStackAsyncWantToWorkWith', 'OfficeStackAsyncAdmired', 'OfficeStackSyncHaveWorkedWith', 'OfficeStackSyncWantToWorkWith', 'OfficeStackSyncAdmired', 'AISearchDevHaveWorkedWith', 'AISearchDevWantToWorkWith', 'AISearchDevAdmired', 'NEWSOSites', 'SOVisitFreq', 'SOAccount', 'SOPartFreq', 'SOHow', 'SOComm', 'AISelect', 'AISent', 'AIBen', 'AIAcc', 'AIComplex', 'AIToolCurrently Using', 'AIToolInterested in Using', 'AIToolNot interested in Using', 'AINextMuch more integrated', 'AINextNo change', 'AINextMore integrated', 'AINextLess integrated', 'AINextMuch less integrated', 'AIThreat', 'AIEthics', 'AIChallenges', 'TBranch', 'ICorPM', 'WorkExp', 'Knowledge_1', 'Knowledge_2', 'Knowledge_3', 'Knowledge_4', 'Knowledge_5', 'Knowledge_6', 'Knowledge_7', 'Knowledge_8', 'Knowledge_9', 'Frequency_1', 'Frequency_2', 'Frequency_3', 'TimeSearching', 'TimeAnswering', 'Frustration', 'ProfessionalTech', 'ProfessionalCloud', 'ProfessionalQuestion', 'Industry', 'JobSatPoints_1', 'JobSatPoints_4', 'JobSatPoints_5', 'JobSatPoints_6', 'JobSatPoints_7', 'JobSatPoints_8', 'JobSatPoints_9', 'JobSatPoints_10', 'JobSatPoints_11', 'SurveyLength', 'SurveyEase', 'ConvertedCompYearly', 'JobSat']\n"
     ]
    }
   ],
   "source": [
    "print(list(df.columns))"
   ]
  }
 ],
 "metadata": {
  "kernelspec": {
   "display_name": "Python 3",
   "language": "python",
   "name": "python3"
  },
  "language_info": {
   "codemirror_mode": {
    "name": "ipython",
    "version": 3
   },
   "file_extension": ".py",
   "mimetype": "text/x-python",
   "name": "python",
   "nbconvert_exporter": "python",
   "pygments_lexer": "ipython3",
   "version": "3.12.8"
  }
 },
 "nbformat": 4,
 "nbformat_minor": 5
}
